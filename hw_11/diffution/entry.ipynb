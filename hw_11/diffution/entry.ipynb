{
 "cells": [
  {
   "cell_type": "markdown",
   "metadata": {},
   "source": [
    "## Denoising Diffusion Probabilistic Models"
   ]
  },
  {
   "cell_type": "code",
   "execution_count": 1,
   "metadata": {},
   "outputs": [],
   "source": [
    "%load_ext autoreload\n",
    "%autoreload 2"
   ]
  },
  {
   "cell_type": "code",
   "execution_count": 2,
   "metadata": {},
   "outputs": [],
   "source": [
    "import torch\n",
    "from data import DiffSet\n",
    "import pytorch_lightning as pl\n",
    "from model import DiffusionModel\n",
    "from torch.utils.data import DataLoader\n",
    "import imageio\n",
    "import glob"
   ]
  },
  {
   "cell_type": "markdown",
   "metadata": {},
   "source": [
    "### Set model parameters"
   ]
  },
  {
   "cell_type": "code",
   "execution_count": 3,
   "metadata": {},
   "outputs": [],
   "source": [
    "# Training hyperparameters\n",
    "diffusion_steps = 1000\n",
    "dataset_choice = \"Fashion\"\n",
    "max_epoch = 10\n",
    "batch_size = 128\n",
    "\n",
    "# Loading parameters\n",
    "load_model = False\n",
    "load_version_num = 1"
   ]
  },
  {
   "cell_type": "markdown",
   "metadata": {},
   "source": [
    "### Load dataset and train model"
   ]
  },
  {
   "cell_type": "code",
   "execution_count": 4,
   "metadata": {},
   "outputs": [],
   "source": [
    "# Code for optionally loading model\n",
    "pass_version = None\n",
    "last_checkpoint = None\n",
    "\n",
    "if load_model:\n",
    "    pass_version = load_version_num\n",
    "    last_checkpoint = glob.glob(\n",
    "        f\"./lightning_logs/{dataset_choice}/version_{load_version_num}/checkpoints/*.ckpt\"\n",
    "    )[-1]"
   ]
  },
  {
   "cell_type": "code",
   "execution_count": 28,
   "metadata": {},
   "outputs": [],
   "source": [
    "# Create datasets and data loaders\n",
    "train_dataset = DiffSet(True, dataset_choice)\n",
    "val_dataset = DiffSet(False, dataset_choice)\n",
    "\n",
    "train_loader = DataLoader(train_dataset, batch_size=batch_size, num_workers=4, shuffle=True)\n",
    "val_loader = DataLoader(val_dataset, batch_size=batch_size, num_workers=4, shuffle=True)\n",
    "\n",
    "# Create model and trainer\n",
    "if load_model:\n",
    "    model = DiffusionModel.load_from_checkpoint(last_checkpoint, in_size=train_dataset.size*train_dataset.size, t_range=diffusion_steps, img_depth=train_dataset.depth)\n",
    "else:\n",
    "    model = DiffusionModel(train_dataset.size*train_dataset.size, diffusion_steps, train_dataset.depth)"
   ]
  },
  {
   "cell_type": "code",
   "execution_count": 29,
   "metadata": {},
   "outputs": [
    {
     "name": "stderr",
     "output_type": "stream",
     "text": [
      "GPU available: False, used: False\n",
      "TPU available: False, using: 0 TPU cores\n",
      "IPU available: False, using: 0 IPUs\n",
      "HPU available: False, using: 0 HPUs\n"
     ]
    }
   ],
   "source": [
    "# Load Trainer model\n",
    "tb_logger = pl.loggers.TensorBoardLogger(\n",
    "    \"lightning_logs/\",\n",
    "    name=dataset_choice,\n",
    "    version=pass_version,\n",
    ")\n",
    "\n",
    "trainer = pl.Trainer(\n",
    "    max_epochs=max_epoch, \n",
    "    log_every_n_steps=10, \n",
    "    # devices=4,\n",
    "    # accelerator=\"cpu\",\n",
    "    # resume_from_checkpoint=last_checkpoint, \n",
    "    logger=tb_logger\n",
    ")"
   ]
  },
  {
   "cell_type": "code",
   "execution_count": 31,
   "metadata": {},
   "outputs": [
    {
     "name": "stderr",
     "output_type": "stream",
     "text": [
      "\n",
      "   | Name          | Type           | Params\n",
      "--------------------------------------------------\n",
      "0  | inc           | DoubleConv     | 37.7 K\n",
      "1  | down1         | Down           | 295 K \n",
      "2  | down2         | Down           | 1.2 M \n",
      "3  | down3         | Down           | 2.4 M \n",
      "4  | up1           | Up             | 6.2 M \n",
      "5  | up2           | Up             | 1.5 M \n",
      "6  | up3           | Up             | 406 K \n",
      "7  | outc          | OutConv        | 65    \n",
      "8  | sa1           | SAWrapper      | 395 K \n",
      "9  | sa2           | SAWrapper      | 395 K \n",
      "10 | sa3           | SAWrapper      | 99.6 K\n",
      "11 | label_layer_1 | ExpandingLayer | 720 K \n",
      "12 | label_layer_2 | ExpandingLayer | 360 K \n",
      "13 | label_layer_3 | ExpandingLayer | 180 K \n",
      "14 | label_layer_4 | ExpandingLayer | 45.1 K\n",
      "--------------------------------------------------\n",
      "14.2 M    Trainable params\n",
      "0         Non-trainable params\n",
      "14.2 M    Total params\n",
      "56.903    Total estimated model params size (MB)\n"
     ]
    },
    {
     "data": {
      "application/vnd.jupyter.widget-view+json": {
       "model_id": "",
       "version_major": 2,
       "version_minor": 0
      },
      "text/plain": [
       "Sanity Checking: |                                        | 0/? [00:00<?, ?it/s]"
      ]
     },
     "metadata": {},
     "output_type": "display_data"
    },
    {
     "data": {
      "application/vnd.jupyter.widget-view+json": {
       "model_id": "7bf4af5de3154c5fac28e0e9ce6f3053",
       "version_major": 2,
       "version_minor": 0
      },
      "text/plain": [
       "Training: |                                               | 0/? [00:00<?, ?it/s]"
      ]
     },
     "metadata": {},
     "output_type": "display_data"
    }
   ],
   "source": [
    "# Train model\n",
    "trainer.fit(model, train_loader, val_loader)"
   ]
  },
  {
   "cell_type": "markdown",
   "metadata": {},
   "source": [
    "### Sample from model"
   ]
  },
  {
   "cell_type": "code",
   "execution_count": 43,
   "metadata": {},
   "outputs": [],
   "source": [
    "gif_shape = [3, 3]\n",
    "sample_batch_size = gif_shape[0] * gif_shape[1]\n",
    "n_hold_final = 10\n",
    "labels = torch.Tensor(list(range(9))).long()\n",
    "# Generate samples from denoising process\n",
    "gen_samples = []\n",
    "x = torch.randn((sample_batch_size, train_dataset.depth, train_dataset.size, train_dataset.size))\n",
    "sample_steps = torch.arange(model.t_range-1, 0, -1)\n",
    "for t in sample_steps:\n",
    "    x = model.denoise_sample(x, t, labels)\n",
    "    if t % 50 == 0:\n",
    "        gen_samples.append(x)\n",
    "for _ in range(n_hold_final):\n",
    "    gen_samples.append(x)\n",
    "gen_samples = torch.stack(gen_samples, dim=0).moveaxis(2, 4).squeeze(-1)\n",
    "gen_samples = (gen_samples.clamp(-1, 1) + 1) / 2"
   ]
  },
  {
   "cell_type": "code",
   "execution_count": 45,
   "metadata": {},
   "outputs": [
    {
     "data": {
      "text/plain": [
       "tensor([[[[  0],\n",
       "          [  0],\n",
       "          [255],\n",
       "          ...,\n",
       "          [ 98],\n",
       "          [188],\n",
       "          [  0]],\n",
       "\n",
       "         [[  0],\n",
       "          [  8],\n",
       "          [255],\n",
       "          ...,\n",
       "          [  0],\n",
       "          [123],\n",
       "          [198]],\n",
       "\n",
       "         [[  0],\n",
       "          [178],\n",
       "          [177],\n",
       "          ...,\n",
       "          [ 26],\n",
       "          [115],\n",
       "          [  0]],\n",
       "\n",
       "         ...,\n",
       "\n",
       "         [[  0],\n",
       "          [ 69],\n",
       "          [ 56],\n",
       "          ...,\n",
       "          [255],\n",
       "          [ 91],\n",
       "          [  0]],\n",
       "\n",
       "         [[255],\n",
       "          [255],\n",
       "          [  0],\n",
       "          ...,\n",
       "          [ 16],\n",
       "          [154],\n",
       "          [255]],\n",
       "\n",
       "         [[255],\n",
       "          [ 74],\n",
       "          [ 80],\n",
       "          ...,\n",
       "          [  0],\n",
       "          [255],\n",
       "          [255]]],\n",
       "\n",
       "\n",
       "        [[[147],\n",
       "          [  0],\n",
       "          [255],\n",
       "          ...,\n",
       "          [ 98],\n",
       "          [ 98],\n",
       "          [  0]],\n",
       "\n",
       "         [[  0],\n",
       "          [  0],\n",
       "          [112],\n",
       "          ...,\n",
       "          [ 31],\n",
       "          [191],\n",
       "          [255]],\n",
       "\n",
       "         [[  4],\n",
       "          [ 66],\n",
       "          [230],\n",
       "          ...,\n",
       "          [ 54],\n",
       "          [ 71],\n",
       "          [  0]],\n",
       "\n",
       "         ...,\n",
       "\n",
       "         [[  0],\n",
       "          [  0],\n",
       "          [  0],\n",
       "          ...,\n",
       "          [230],\n",
       "          [ 60],\n",
       "          [ 46]],\n",
       "\n",
       "         [[255],\n",
       "          [255],\n",
       "          [  0],\n",
       "          ...,\n",
       "          [  0],\n",
       "          [255],\n",
       "          [255]],\n",
       "\n",
       "         [[255],\n",
       "          [205],\n",
       "          [101],\n",
       "          ...,\n",
       "          [  0],\n",
       "          [255],\n",
       "          [255]]],\n",
       "\n",
       "\n",
       "        [[[255],\n",
       "          [  0],\n",
       "          [255],\n",
       "          ...,\n",
       "          [  0],\n",
       "          [  0],\n",
       "          [  0]],\n",
       "\n",
       "         [[255],\n",
       "          [  9],\n",
       "          [  0],\n",
       "          ...,\n",
       "          [157],\n",
       "          [ 29],\n",
       "          [255]],\n",
       "\n",
       "         [[  0],\n",
       "          [  4],\n",
       "          [255],\n",
       "          ...,\n",
       "          [  0],\n",
       "          [ 52],\n",
       "          [  0]],\n",
       "\n",
       "         ...,\n",
       "\n",
       "         [[  0],\n",
       "          [ 16],\n",
       "          [  0],\n",
       "          ...,\n",
       "          [191],\n",
       "          [ 22],\n",
       "          [  0]],\n",
       "\n",
       "         [[255],\n",
       "          [174],\n",
       "          [  0],\n",
       "          ...,\n",
       "          [109],\n",
       "          [255],\n",
       "          [255]],\n",
       "\n",
       "         [[255],\n",
       "          [255],\n",
       "          [192],\n",
       "          ...,\n",
       "          [  0],\n",
       "          [255],\n",
       "          [255]]],\n",
       "\n",
       "\n",
       "        ...,\n",
       "\n",
       "\n",
       "        [[[255],\n",
       "          [  0],\n",
       "          [255],\n",
       "          ...,\n",
       "          [  0],\n",
       "          [  0],\n",
       "          [  0]],\n",
       "\n",
       "         [[255],\n",
       "          [  0],\n",
       "          [  0],\n",
       "          ...,\n",
       "          [255],\n",
       "          [255],\n",
       "          [255]],\n",
       "\n",
       "         [[  0],\n",
       "          [  0],\n",
       "          [  0],\n",
       "          ...,\n",
       "          [  0],\n",
       "          [255],\n",
       "          [  0]],\n",
       "\n",
       "         ...,\n",
       "\n",
       "         [[  0],\n",
       "          [  0],\n",
       "          [  0],\n",
       "          ...,\n",
       "          [  0],\n",
       "          [  0],\n",
       "          [  0]],\n",
       "\n",
       "         [[255],\n",
       "          [255],\n",
       "          [  0],\n",
       "          ...,\n",
       "          [  0],\n",
       "          [255],\n",
       "          [255]],\n",
       "\n",
       "         [[255],\n",
       "          [255],\n",
       "          [255],\n",
       "          ...,\n",
       "          [  0],\n",
       "          [255],\n",
       "          [255]]],\n",
       "\n",
       "\n",
       "        [[[255],\n",
       "          [  0],\n",
       "          [255],\n",
       "          ...,\n",
       "          [  0],\n",
       "          [  0],\n",
       "          [  0]],\n",
       "\n",
       "         [[255],\n",
       "          [  0],\n",
       "          [  0],\n",
       "          ...,\n",
       "          [255],\n",
       "          [255],\n",
       "          [255]],\n",
       "\n",
       "         [[  0],\n",
       "          [  0],\n",
       "          [  0],\n",
       "          ...,\n",
       "          [  0],\n",
       "          [255],\n",
       "          [  0]],\n",
       "\n",
       "         ...,\n",
       "\n",
       "         [[  0],\n",
       "          [  0],\n",
       "          [  0],\n",
       "          ...,\n",
       "          [  0],\n",
       "          [  0],\n",
       "          [  0]],\n",
       "\n",
       "         [[255],\n",
       "          [255],\n",
       "          [  0],\n",
       "          ...,\n",
       "          [  0],\n",
       "          [255],\n",
       "          [255]],\n",
       "\n",
       "         [[255],\n",
       "          [255],\n",
       "          [255],\n",
       "          ...,\n",
       "          [  0],\n",
       "          [255],\n",
       "          [255]]],\n",
       "\n",
       "\n",
       "        [[[255],\n",
       "          [  0],\n",
       "          [255],\n",
       "          ...,\n",
       "          [  0],\n",
       "          [  0],\n",
       "          [  0]],\n",
       "\n",
       "         [[255],\n",
       "          [  0],\n",
       "          [  0],\n",
       "          ...,\n",
       "          [255],\n",
       "          [255],\n",
       "          [255]],\n",
       "\n",
       "         [[  0],\n",
       "          [  0],\n",
       "          [  0],\n",
       "          ...,\n",
       "          [  0],\n",
       "          [255],\n",
       "          [  0]],\n",
       "\n",
       "         ...,\n",
       "\n",
       "         [[  0],\n",
       "          [  0],\n",
       "          [  0],\n",
       "          ...,\n",
       "          [  0],\n",
       "          [  0],\n",
       "          [  0]],\n",
       "\n",
       "         [[255],\n",
       "          [255],\n",
       "          [  0],\n",
       "          ...,\n",
       "          [  0],\n",
       "          [255],\n",
       "          [255]],\n",
       "\n",
       "         [[255],\n",
       "          [255],\n",
       "          [255],\n",
       "          ...,\n",
       "          [  0],\n",
       "          [255],\n",
       "          [255]]]], dtype=torch.uint8)"
      ]
     },
     "execution_count": 45,
     "metadata": {},
     "output_type": "execute_result"
    }
   ],
   "source": [
    "gen_samples"
   ]
  },
  {
   "cell_type": "code",
   "execution_count": 44,
   "metadata": {},
   "outputs": [
    {
     "ename": "TypeError",
     "evalue": "Cannot handle this data type: (1, 1, 1), |u1",
     "output_type": "error",
     "traceback": [
      "\u001b[0;31m---------------------------------------------------------------------------\u001b[0m",
      "\u001b[0;31mKeyError\u001b[0m                                  Traceback (most recent call last)",
      "File \u001b[0;32m~/conda/envs/mlops_env/lib/python3.11/site-packages/PIL/Image.py:3095\u001b[0m, in \u001b[0;36mfromarray\u001b[0;34m(obj, mode)\u001b[0m\n\u001b[1;32m   3094\u001b[0m \u001b[38;5;28;01mtry\u001b[39;00m:\n\u001b[0;32m-> 3095\u001b[0m     mode, rawmode \u001b[38;5;241m=\u001b[39m _fromarray_typemap[typekey]\n\u001b[1;32m   3096\u001b[0m \u001b[38;5;28;01mexcept\u001b[39;00m \u001b[38;5;167;01mKeyError\u001b[39;00m \u001b[38;5;28;01mas\u001b[39;00m e:\n",
      "\u001b[0;31mKeyError\u001b[0m: ((1, 1, 1), '|u1')",
      "\nThe above exception was the direct cause of the following exception:\n",
      "\u001b[0;31mTypeError\u001b[0m                                 Traceback (most recent call last)",
      "Cell \u001b[0;32mIn[44], line 14\u001b[0m\n\u001b[1;32m     11\u001b[0m gen_samples \u001b[38;5;241m=\u001b[39m stack_samples(gen_samples, \u001b[38;5;241m2\u001b[39m)\n\u001b[1;32m     12\u001b[0m gen_samples \u001b[38;5;241m=\u001b[39m stack_samples(gen_samples, \u001b[38;5;241m2\u001b[39m)\n\u001b[0;32m---> 14\u001b[0m imageio\u001b[38;5;241m.\u001b[39mmimsave(\n\u001b[1;32m     15\u001b[0m     \u001b[38;5;124mf\u001b[39m\u001b[38;5;124m\"\u001b[39m\u001b[38;5;132;01m{\u001b[39;00mtrainer\u001b[38;5;241m.\u001b[39mlogger\u001b[38;5;241m.\u001b[39mlog_dir\u001b[38;5;132;01m}\u001b[39;00m\u001b[38;5;124m/pred.gif\u001b[39m\u001b[38;5;124m\"\u001b[39m,\n\u001b[1;32m     16\u001b[0m     \u001b[38;5;28mlist\u001b[39m(gen_samples),\n\u001b[1;32m     17\u001b[0m     fps\u001b[38;5;241m=\u001b[39m\u001b[38;5;241m5\u001b[39m,\n\u001b[1;32m     18\u001b[0m )\n",
      "File \u001b[0;32m~/conda/envs/mlops_env/lib/python3.11/site-packages/imageio/v2.py:495\u001b[0m, in \u001b[0;36mmimwrite\u001b[0;34m(uri, ims, format, **kwargs)\u001b[0m\n\u001b[1;32m    493\u001b[0m imopen_args[\u001b[38;5;124m\"\u001b[39m\u001b[38;5;124mlegacy_mode\u001b[39m\u001b[38;5;124m\"\u001b[39m] \u001b[38;5;241m=\u001b[39m \u001b[38;5;28;01mTrue\u001b[39;00m\n\u001b[1;32m    494\u001b[0m \u001b[38;5;28;01mwith\u001b[39;00m imopen(uri, \u001b[38;5;124m\"\u001b[39m\u001b[38;5;124mwI\u001b[39m\u001b[38;5;124m\"\u001b[39m, \u001b[38;5;241m*\u001b[39m\u001b[38;5;241m*\u001b[39mimopen_args) \u001b[38;5;28;01mas\u001b[39;00m file:\n\u001b[0;32m--> 495\u001b[0m     \u001b[38;5;28;01mreturn\u001b[39;00m file\u001b[38;5;241m.\u001b[39mwrite(ims, is_batch\u001b[38;5;241m=\u001b[39m\u001b[38;5;28;01mTrue\u001b[39;00m, \u001b[38;5;241m*\u001b[39m\u001b[38;5;241m*\u001b[39mkwargs)\n",
      "File \u001b[0;32m~/conda/envs/mlops_env/lib/python3.11/site-packages/imageio/plugins/pillow.py:444\u001b[0m, in \u001b[0;36mPillowPlugin.write\u001b[0;34m(self, ndimage, mode, format, is_batch, **kwargs)\u001b[0m\n\u001b[1;32m    441\u001b[0m     ndimage \u001b[38;5;241m=\u001b[39m ndimage[\u001b[38;5;28;01mNone\u001b[39;00m, \u001b[38;5;241m.\u001b[39m\u001b[38;5;241m.\u001b[39m\u001b[38;5;241m.\u001b[39m]\n\u001b[1;32m    443\u001b[0m \u001b[38;5;28;01mfor\u001b[39;00m frame \u001b[38;5;129;01min\u001b[39;00m ndimage:\n\u001b[0;32m--> 444\u001b[0m     pil_frame \u001b[38;5;241m=\u001b[39m Image\u001b[38;5;241m.\u001b[39mfromarray(frame, mode\u001b[38;5;241m=\u001b[39mmode)\n\u001b[1;32m    445\u001b[0m     \u001b[38;5;28;01mif\u001b[39;00m \u001b[38;5;124m\"\u001b[39m\u001b[38;5;124mbits\u001b[39m\u001b[38;5;124m\"\u001b[39m \u001b[38;5;129;01min\u001b[39;00m kwargs:\n\u001b[1;32m    446\u001b[0m         pil_frame \u001b[38;5;241m=\u001b[39m pil_frame\u001b[38;5;241m.\u001b[39mquantize(colors\u001b[38;5;241m=\u001b[39m\u001b[38;5;241m2\u001b[39m \u001b[38;5;241m*\u001b[39m\u001b[38;5;241m*\u001b[39m kwargs[\u001b[38;5;124m\"\u001b[39m\u001b[38;5;124mbits\u001b[39m\u001b[38;5;124m\"\u001b[39m])\n",
      "File \u001b[0;32m~/conda/envs/mlops_env/lib/python3.11/site-packages/PIL/Image.py:3098\u001b[0m, in \u001b[0;36mfromarray\u001b[0;34m(obj, mode)\u001b[0m\n\u001b[1;32m   3096\u001b[0m     \u001b[38;5;28;01mexcept\u001b[39;00m \u001b[38;5;167;01mKeyError\u001b[39;00m \u001b[38;5;28;01mas\u001b[39;00m e:\n\u001b[1;32m   3097\u001b[0m         msg \u001b[38;5;241m=\u001b[39m \u001b[38;5;124m\"\u001b[39m\u001b[38;5;124mCannot handle this data type: \u001b[39m\u001b[38;5;132;01m%s\u001b[39;00m\u001b[38;5;124m, \u001b[39m\u001b[38;5;132;01m%s\u001b[39;00m\u001b[38;5;124m\"\u001b[39m \u001b[38;5;241m%\u001b[39m typekey\n\u001b[0;32m-> 3098\u001b[0m         \u001b[38;5;28;01mraise\u001b[39;00m \u001b[38;5;167;01mTypeError\u001b[39;00m(msg) \u001b[38;5;28;01mfrom\u001b[39;00m \u001b[38;5;21;01me\u001b[39;00m\n\u001b[1;32m   3099\u001b[0m \u001b[38;5;28;01melse\u001b[39;00m:\n\u001b[1;32m   3100\u001b[0m     rawmode \u001b[38;5;241m=\u001b[39m mode\n",
      "\u001b[0;31mTypeError\u001b[0m: Cannot handle this data type: (1, 1, 1), |u1"
     ]
    }
   ],
   "source": [
    "# Process samples and save as gif\n",
    "gen_samples = (gen_samples * 255).type(torch.uint8)\n",
    "gen_samples = gen_samples.reshape(-1, gif_shape[0], gif_shape[1], train_dataset.size, train_dataset.size, train_dataset.depth)\n",
    "\n",
    "def stack_samples(gen_samples, stack_dim):\n",
    "    gen_samples = list(torch.split(gen_samples, 1, dim=1))\n",
    "    for i in range(len(gen_samples)):\n",
    "        gen_samples[i] = gen_samples[i].squeeze(1)\n",
    "    return torch.cat(gen_samples, dim=stack_dim)\n",
    "\n",
    "gen_samples = stack_samples(gen_samples, 2)\n",
    "gen_samples = stack_samples(gen_samples, 2)\n",
    "\n",
    "imageio.mimsave(\n",
    "    f\"{trainer.logger.log_dir}/pred.gif\",\n",
    "    list(gen_samples),\n",
    "    fps=5,\n",
    ")"
   ]
  },
  {
   "cell_type": "code",
   "execution_count": 14,
   "metadata": {},
   "outputs": [
    {
     "data": {
      "text/plain": [
       "tensor([0., 0., 1., 0., 0., 1., 0., 0., 0., 0.])"
      ]
     },
     "execution_count": 14,
     "metadata": {},
     "output_type": "execute_result"
    }
   ],
   "source": [
    "c = torch.Tensor(range(10))\n",
    "\n",
    "torch.bernoulli(torch.zeros_like(c)+0.3)"
   ]
  },
  {
   "cell_type": "code",
   "execution_count": 123,
   "metadata": {},
   "outputs": [
    {
     "data": {
      "text/plain": [
       "tensor([0., 0., 0., 0., 0., 0., 0., 1., 0., 0.])"
      ]
     },
     "execution_count": 123,
     "metadata": {},
     "output_type": "execute_result"
    }
   ],
   "source": [
    "torch.bernoulli(torch.zeros_like(c)+0.2)"
   ]
  },
  {
   "cell_type": "code",
   "execution_count": 140,
   "metadata": {},
   "outputs": [
    {
     "ename": "AttributeError",
     "evalue": "'Tensor' object has no attribute 'copy'",
     "output_type": "error",
     "traceback": [
      "\u001b[0;31m---------------------------------------------------------------------------\u001b[0m",
      "\u001b[0;31mAttributeError\u001b[0m                            Traceback (most recent call last)",
      "Cell \u001b[0;32mIn[140], line 1\u001b[0m\n\u001b[0;32m----> 1\u001b[0m c\u001b[38;5;241m.\u001b[39mcopy()\u001b[38;5;241m.\u001b[39mbernoulli_(\u001b[38;5;241m0.3\u001b[39m)\n",
      "\u001b[0;31mAttributeError\u001b[0m: 'Tensor' object has no attribute 'copy'"
     ]
    }
   ],
   "source": [
    "c.copy().bernoulli_(0.3)"
   ]
  },
  {
   "cell_type": "code",
   "execution_count": 31,
   "metadata": {},
   "outputs": [],
   "source": [
    "import numpy as np\n",
    "z = torch.from_numpy(np.random.binomial(1,0.2,10))"
   ]
  },
  {
   "cell_type": "code",
   "execution_count": 17,
   "metadata": {},
   "outputs": [
    {
     "data": {
      "text/plain": [
       "tensor([0., 1., 2., 3., 4., 5., 6., 7., 8., 9.])"
      ]
     },
     "execution_count": 17,
     "metadata": {},
     "output_type": "execute_result"
    }
   ],
   "source": [
    "c.to(c.device)"
   ]
  },
  {
   "cell_type": "code",
   "execution_count": 29,
   "metadata": {},
   "outputs": [],
   "source": [
    "import torch.nn as nn\n",
    "c = c.long()"
   ]
  },
  {
   "cell_type": "code",
   "execution_count": 36,
   "metadata": {},
   "outputs": [],
   "source": [
    "c = nn.functional.one_hot(c, num_classes=10).type(torch.float)"
   ]
  },
  {
   "cell_type": "code",
   "execution_count": 35,
   "metadata": {},
   "outputs": [
    {
     "data": {
      "text/plain": [
       "tensor([0, 1, 2, 3, 4, 5, 6, 7, 8, 9])"
      ]
     },
     "execution_count": 35,
     "metadata": {},
     "output_type": "execute_result"
    }
   ],
   "source": [
    "c"
   ]
  },
  {
   "cell_type": "code",
   "execution_count": 34,
   "metadata": {},
   "outputs": [
    {
     "data": {
      "text/plain": [
       "tensor([[0, 0, 0, 0, 1, 0, 0, 0, 1, 0, 0, 0, 0, 0, 1, 0, 0, 0, 1, 0, 0, 0, 0, 0,\n",
       "         1, 0, 0, 0, 1, 0, 0, 0, 0, 0, 1, 0, 0, 0, 1, 0, 0, 0, 0, 0, 1, 0, 0, 0,\n",
       "         1, 0, 0, 0, 0, 0, 1, 0, 0, 0, 1, 0, 0, 0, 0, 0, 1, 0, 0, 0, 1, 0, 0, 0,\n",
       "         0, 0, 1, 0, 0, 0, 1, 0, 0, 0, 0, 0, 1, 0, 0, 0, 1, 0, 0, 0, 0, 0, 1, 0,\n",
       "         0, 0, 1, 0]])"
      ]
     },
     "execution_count": 34,
     "metadata": {},
     "output_type": "execute_result"
    }
   ],
   "source": [
    "z.repeat(1,10)"
   ]
  },
  {
   "cell_type": "code",
   "execution_count": 37,
   "metadata": {},
   "outputs": [
    {
     "data": {
      "text/plain": [
       "tensor([[1., 0., 0., 0., 0., 0., 0., 0., 0., 0.],\n",
       "        [0., 1., 0., 0., 0., 0., 0., 0., 0., 0.],\n",
       "        [0., 0., 1., 0., 0., 0., 0., 0., 0., 0.],\n",
       "        [0., 0., 0., 1., 0., 0., 0., 0., 0., 0.],\n",
       "        [0., 0., 0., 0., 1., 0., 0., 0., 0., 0.],\n",
       "        [0., 0., 0., 0., 0., 1., 0., 0., 0., 0.],\n",
       "        [0., 0., 0., 0., 0., 0., 1., 0., 0., 0.],\n",
       "        [0., 0., 0., 0., 0., 0., 0., 1., 0., 0.],\n",
       "        [0., 0., 0., 0., 0., 0., 0., 0., 1., 0.],\n",
       "        [0., 0., 0., 0., 0., 0., 0., 0., 0., 1.]])"
      ]
     },
     "execution_count": 37,
     "metadata": {},
     "output_type": "execute_result"
    }
   ],
   "source": [
    "c"
   ]
  },
  {
   "cell_type": "code",
   "execution_count": 42,
   "metadata": {},
   "outputs": [
    {
     "data": {
      "text/plain": [
       "tensor([[0, 0, 0, 0, 0, 0, 0, 0, 0, 0],\n",
       "        [0, 0, 0, 0, 0, 0, 0, 0, 0, 0],\n",
       "        [0, 0, 0, 0, 0, 0, 0, 0, 0, 0],\n",
       "        [0, 0, 0, 0, 0, 0, 0, 0, 0, 0],\n",
       "        [1, 1, 1, 1, 1, 1, 1, 1, 1, 1],\n",
       "        [0, 0, 0, 0, 0, 0, 0, 0, 0, 0],\n",
       "        [0, 0, 0, 0, 0, 0, 0, 0, 0, 0],\n",
       "        [0, 0, 0, 0, 0, 0, 0, 0, 0, 0],\n",
       "        [1, 1, 1, 1, 1, 1, 1, 1, 1, 1],\n",
       "        [0, 0, 0, 0, 0, 0, 0, 0, 0, 0]])"
      ]
     },
     "execution_count": 42,
     "metadata": {},
     "output_type": "execute_result"
    }
   ],
   "source": [
    "z[:, None].repeat(1,10)"
   ]
  },
  {
   "cell_type": "code",
   "execution_count": null,
   "metadata": {},
   "outputs": [],
   "source": []
  },
  {
   "cell_type": "code",
   "execution_count": null,
   "metadata": {},
   "outputs": [],
   "source": []
  },
  {
   "cell_type": "code",
   "execution_count": 47,
   "metadata": {},
   "outputs": [],
   "source": [
    "def gen_sampels(gif_shape = [3, 3], seed=777):\n",
    "    torch.manual_seed(seed)\n",
    "    sample_batch_size = gif_shape[0] * gif_shape[1]\n",
    "    n_hold_final = 10\n",
    "    labels = torch.Tensor(list(range(9))).long()\n",
    "\n",
    "    # Generate samples from denoising process\n",
    "    gen_samples = []\n",
    "    x = torch.randn((sample_batch_size, train_dataset.depth, train_dataset.size, train_dataset.size))\n",
    "    sample_steps = torch.arange(model.t_range-1, 0, -1)\n",
    "    for t in sample_steps:\n",
    "        x = model.denoise_sample(x, t, labels)\n",
    "        if t % 50 == 0:\n",
    "            gen_samples.append(x)\n",
    "    for _ in range(n_hold_final):\n",
    "        gen_samples.append(x)\n",
    "    gen_samples = torch.stack(gen_samples, dim=0).moveaxis(2, 4).squeeze(-1)\n",
    "    gen_samples = (gen_samples.clamp(-1, 1) + 1) / 2\n",
    "    return gen_samples"
   ]
  },
  {
   "cell_type": "code",
   "execution_count": 48,
   "metadata": {},
   "outputs": [],
   "source": [
    "# Process samples and save as gif\n",
    "def gen_sampels_prepare(gen_samples):\n",
    "    gen_samples = (gen_samples * 255).type(torch.uint8)\n",
    "    gen_samples = gen_samples.reshape(-1, gif_shape[0], gif_shape[1], train_dataset.size, train_dataset.size, train_dataset.depth)\n",
    "\n",
    "    def stack_samples(gen_samples, stack_dim):\n",
    "        gen_samples = list(torch.split(gen_samples, 1, dim=1))\n",
    "        for i in range(len(gen_samples)):\n",
    "            gen_samples[i] = gen_samples[i].squeeze(1)\n",
    "        return torch.cat(gen_samples, dim=stack_dim)\n",
    "    gen_samples = stack_samples(gen_samples, 2)\n",
    "    gen_samples = stack_samples(gen_samples, 2)\n",
    "    return gen_samples"
   ]
  },
  {
   "cell_type": "code",
   "execution_count": 49,
   "metadata": {},
   "outputs": [],
   "source": [
    "gen_samples = gen_sampels(seed=777)\n",
    "gen_samples = gen_sampels_prepare(gen_samples)"
   ]
  },
  {
   "cell_type": "code",
   "execution_count": 51,
   "metadata": {},
   "outputs": [],
   "source": [
    "import numpy as np\n",
    "import matplotlib.pyplot as plt\n",
    "from PIL import Image"
   ]
  },
  {
   "cell_type": "code",
   "execution_count": 52,
   "metadata": {},
   "outputs": [],
   "source": [
    "imageio.mimsave(\n",
    "    f\"pred.gif\",\n",
    "    [Image.fromarray(image.moveaxis(2, 0)[0].numpy().astype(np.uint8)) for image in gen_samples],\n",
    "    fps=5,\n",
    ")\n",
    "\n",
    "def plot_generate(gen_samples):\n",
    "    plt.figure()\n",
    "    f, axarr = plt.subplots(2,2,  figsize=(15, 15)) \n",
    "    axarr[0,0].imshow(gen_samples[0,:].moveaxis(2, 0)[0])\n",
    "    axarr[0,1].imshow(gen_samples[10,:].moveaxis(2, 0)[0])\n",
    "    axarr[1,0].imshow(gen_samples[20,:].moveaxis(2, 0)[0])\n",
    "    axarr[1,1].imshow(gen_samples[-1,:].moveaxis(2, 0)[0])"
   ]
  },
  {
   "cell_type": "code",
   "execution_count": 53,
   "metadata": {},
   "outputs": [
    {
     "data": {
      "text/plain": [
       "<Figure size 640x480 with 0 Axes>"
      ]
     },
     "metadata": {},
     "output_type": "display_data"
    },
    {
     "data": {
      "image/png": "[encoded data removed]",
      "text/plain": [
       "<Figure size 1500x1500 with 4 Axes>"
      ]
     },
     "metadata": {},
     "output_type": "display_data"
    }
   ],
   "source": [
    "plot_generate(gen_samples)"
   ]
  },
  {
   "cell_type": "code",
   "execution_count": null,
   "metadata": {},
   "outputs": [],
   "source": []
  }
 ],
 "metadata": {
  "interpreter": {
   "hash": "78f961cc1adb1d23b163d13487a7bbea047622fac31372ac86f89c77664d2955"
  },
  "kernelspec": {
   "display_name": "Python 3 (ipykernel)",
   "language": "python",
   "name": "python3"
  },
  "language_info": {
   "codemirror_mode": {
    "name": "ipython",
    "version": 3
   },
   "file_extension": ".py",
   "mimetype": "text/x-python",
   "name": "python",
   "nbconvert_exporter": "python",
   "pygments_lexer": "ipython3",
   "version": "3.11.5"
  }
 },
 "nbformat": 4,
 "nbformat_minor": 4
}
